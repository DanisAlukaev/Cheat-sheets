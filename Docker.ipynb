{
 "cells": [
  {
   "cell_type": "markdown",
   "metadata": {},
   "source": [
    "# Docker"
   ]
  },
  {
   "cell_type": "markdown",
   "metadata": {},
   "source": [
    "All the concepts were taken from [Основы Docker. Большой практический выпуск](https://youtu.be/QF4ZF857m44)."
   ]
  },
  {
   "cell_type": "markdown",
   "metadata": {},
   "source": [
    "### Overview:\n",
    "- [Introduction](#Introduction)\n",
    "- [Getting started](#Getting-started)\n",
    "- [Set up Dockerfile](#Set-up-Dockerfile)\n",
    "- [Containerization](#Containerization) \n",
    "- [Work with volumes](#Work-with-volumes) \n",
    "- [Docker compose](#Docker-compose) \n",
    "- [Dockerhub](#Dockerhub) "
   ]
  },
  {
   "cell_type": "markdown",
   "metadata": {},
   "source": [
    "### Introduction"
   ]
  },
  {
   "cell_type": "markdown",
   "metadata": {},
   "source": [
    "Docker provide us with simple way to pack, deliver and launch the application.\n",
    "It is based on another type of virtualization in comparison with standard virtual machines: containers keep only services that are needed by an apllication. In order to do so there was introduced layers concept: instead of using the environment created on some server, we add to images necessary layers e.g. ubuntu + python + postgresql.\n",
    "Such an approach allows us to create several instances of application with environments and run them in different places with the same logic of construction. "
   ]
  },
  {
   "cell_type": "markdown",
   "metadata": {},
   "source": [
    "### Getting started"
   ]
  },
  {
   "cell_type": "markdown",
   "metadata": {},
   "source": [
    "In order to create an image of our application one might use the command `docker build -t hello-world .`, where `-t` stands for the tag of an image and `.` points out what is the directory to push. But the Docker should know what are the exact steps while creating the image, consequently we need to create so-called Dockerfile. \n",
    "\n",
    "Sample Dockerfile has the following form:\n",
    "```\n",
    "FROM python:3.6\n",
    "\n",
    "RUN mkdir -p /usr/src/app/\n",
    "\n",
    "WORKDIR /usr/src/app/\n",
    "\n",
    "COPY . /usr/src/app/\n",
    "\n",
    "RUN pip install --no-cache-dir -r requirements.txt\n",
    "\n",
    "CMD[\"python\", \"app.py\"]\n",
    "```\n",
    "The very first line indicates what is the base container to use, for this example we took Ubuntu with Python 3.6. Each of the lines creates new layer over the previous ones composing necessary environment.\n"
   ]
  },
  {
   "cell_type": "markdown",
   "metadata": {},
   "source": [
    "### Set up Dockerfile"
   ]
  },
  {
   "cell_type": "markdown",
   "metadata": {},
   "source": [
    "**Work with ports** <br>\n",
    "`EXPOSE 8080` - expose port in order to access it from outside (see [how to run container](#create_run))"
   ]
  },
  {
   "cell_type": "markdown",
   "metadata": {},
   "source": [
    "**Environment variables** <br>\n",
    "`ENV <NAME> <VALUE>` - set environment variable, alternatively it can be [specified while running](#create_run)"
   ]
  },
  {
   "cell_type": "markdown",
   "metadata": {},
   "source": [
    "### Containerization"
   ]
  },
  {
   "cell_type": "markdown",
   "metadata": {},
   "source": [
    "**Create an image out of Dockerfile located in current directory** <br>\n",
    "<a id=\"build\"></a>\n",
    "`docker build -t <TAG> <WORKDIR>`"
   ]
  },
  {
   "cell_type": "markdown",
   "metadata": {},
   "source": [
    "**List all locally available images** <br>\n",
    "`docker images` <br>\n",
    "Remarkably that the `IMAGE ID` is the first 12 digits of a hash sum computed using SHA-256.\n",
    "\n",
    "`-q` - list only ids of images"
   ]
  },
  {
   "cell_type": "markdown",
   "metadata": {},
   "source": [
    "**Remove images** <br>\n",
    "`docker rmi <NAME/ID>`"
   ]
  },
  {
   "cell_type": "markdown",
   "metadata": {},
   "source": [
    "**Create and run the container** <br>\n",
    "<a id=\"create_run\"></a>\n",
    "`docker run hello-world` \n",
    "\n",
    "`--name <name>` - specify name <br>\n",
    "`-d` - run in the background <br>\n",
    "`--rm` - remove after container stop <br>\n",
    "`-p <PORT OF YOUR MACHINE>:<PORT INSIDE CONTAINER>` - work with specified port inside the container (requires `EXPOSE` in Dockerfile) <br>\n",
    "`-e <VARNAME>=<VALUE>` - set value for a environment variable <br>\n",
    "`-v <ABSOLUTE PATH ON HOST>:<ABSOLUTE PATH IN CONTAINER>` - mount the directory, so all local changes e.g in the directory will be reflected in the container <br>\n",
    "`-v <VOLUME NAME>:<ABSOLUTE PATH IN CONTAINER>` - usually used for databases, mount the directory inside the container to volume "
   ]
  },
  {
   "cell_type": "markdown",
   "metadata": {},
   "source": [
    "**List running containers** <br>\n",
    "`docker ps` \n",
    "\n",
    "`ps` stands for Process Status <br>\n",
    "`-a` - list all containers <br>\n",
    "`-q` - list only IDs of containers"
   ]
  },
  {
   "cell_type": "markdown",
   "metadata": {},
   "source": [
    "**Remove containers** <br>\n",
    "`docker rm <NAME/ID>`\n",
    "\n",
    "! Hack: automatically remove all the containers :) <br>\n",
    "`docker rm $(docker ps -qa)`"
   ]
  },
  {
   "cell_type": "markdown",
   "metadata": {},
   "source": [
    "**Stop the container** <br> \n",
    "`docker stop <NAME/ID>`"
   ]
  },
  {
   "cell_type": "markdown",
   "metadata": {},
   "source": [
    "### Work with volumes"
   ]
  },
  {
   "cell_type": "markdown",
   "metadata": {},
   "source": [
    "Volumes used to save the information our application has produced. Indeed, while application is runnig all information placed by some path inside the container also goes to volume. Stored in volume information is accessible even after container removal. Mouting performed when [the container is runned](#create_run).   "
   ]
  },
  {
   "cell_type": "markdown",
   "metadata": {},
   "source": [
    "**List all volumes** <br>\n",
    "`docker volume ls`"
   ]
  },
  {
   "cell_type": "markdown",
   "metadata": {},
   "source": [
    "**Create new volume** <br>\n",
    "`docker volume create <NAME>`"
   ]
  },
  {
   "cell_type": "markdown",
   "metadata": {},
   "source": [
    "### Docker compose"
   ]
  },
  {
   "cell_type": "markdown",
   "metadata": {},
   "source": [
    "Development of large enough system often requires several microservices in different containers and interconnecting these containers with each other. However, it might quite complicated to set environment variables and run containers for microservices in `docker run` command. There Docker compose appears. File `docker-compose.yml` used to specify all the microservices Docker needs to run. In the following section we will provide sample structure of `docker-compose.yml`."
   ]
  },
  {
   "cell_type": "markdown",
   "metadata": {},
   "source": [
    "```\n",
    "version: \"3\"\n",
    "\n",
    "volumes: mongodb_volume\n",
    "\n",
    "services:\n",
    "    youtube_statistics:\n",
    "        build: StatisticsManager/\n",
    "        restart: always\n",
    "        environment:\n",
    "            - TZ=Europe/Moscow\n",
    "            - MONGO_DB_ADDR=mongodb\n",
    "            - MONGO_DB_PORT=27017\n",
    "            ...\n",
    "    \n",
    "    web_service:\n",
    "        build: WebService/\n",
    "        restart: always\n",
    "        ports:\n",
    "            - 8080:8080\n",
    "        environment:\n",
    "            - MONGO_DB_ADDR=mongodb\n",
    "            - MONGO_DB_PORT=27017\n",
    "            - LOG_MODE=dev\n",
    "            ...\n",
    "    \n",
    "    mongodb:\n",
    "        image: mongo: latest\n",
    "        volumes:\n",
    "            - mongodb_volume: /data/db\n",
    "        restart: always\n",
    "        \n",
    "```\n",
    "\n",
    "`version: \"3\"` - declare format of Dockerfile (optional) <br>\n",
    "`build: <PATH>` - specify directory with source code for microservice"
   ]
  },
  {
   "cell_type": "markdown",
   "metadata": {},
   "source": [
    "**Run containers using Docker-compose** <br>\n",
    "`docker-compose up`"
   ]
  },
  {
   "cell_type": "markdown",
   "metadata": {},
   "source": [
    "### Dockerhub"
   ]
  },
  {
   "cell_type": "markdown",
   "metadata": {},
   "source": [
    "**Push Docker container in Dockerhub** <br>\n",
    "`docker build -t <USERNAME IN DOCKER>/<CONTAINER NAME> .` - ref. [docker build](#build) <br>\n",
    "`docker push <USERNAME IN DOCKER>/<CONTAINER NAME>` \n",
    "\n",
    "Use `docker login` if necessary."
   ]
  }
 ],
 "metadata": {
  "kernelspec": {
   "display_name": "Python 3",
   "language": "python",
   "name": "python3"
  },
  "language_info": {
   "codemirror_mode": {
    "name": "ipython",
    "version": 3
   },
   "file_extension": ".py",
   "mimetype": "text/x-python",
   "name": "python",
   "nbconvert_exporter": "python",
   "pygments_lexer": "ipython3",
   "version": "3.7.3"
  }
 },
 "nbformat": 4,
 "nbformat_minor": 2
}
